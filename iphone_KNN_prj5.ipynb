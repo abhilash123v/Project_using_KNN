{
 "cells": [
  {
   "cell_type": "code",
   "execution_count": 1,
   "id": "c156ceb0",
   "metadata": {},
   "outputs": [],
   "source": [
    "import pandas as pd\n",
    "data=pd.read_csv(r\"H:\\TOPMENTOR\\2024\\May-month\\Projects\\Files\\KNN Assignment\\iphone_purchase_records.csv\")"
   ]
  },
  {
   "cell_type": "code",
   "execution_count": 2,
   "id": "187e24a0",
   "metadata": {},
   "outputs": [
    {
     "data": {
      "text/html": [
       "<div>\n",
       "<style scoped>\n",
       "    .dataframe tbody tr th:only-of-type {\n",
       "        vertical-align: middle;\n",
       "    }\n",
       "\n",
       "    .dataframe tbody tr th {\n",
       "        vertical-align: top;\n",
       "    }\n",
       "\n",
       "    .dataframe thead th {\n",
       "        text-align: right;\n",
       "    }\n",
       "</style>\n",
       "<table border=\"1\" class=\"dataframe\">\n",
       "  <thead>\n",
       "    <tr style=\"text-align: right;\">\n",
       "      <th></th>\n",
       "      <th>Gender</th>\n",
       "      <th>Age</th>\n",
       "      <th>Salary</th>\n",
       "      <th>Purchase Iphone</th>\n",
       "    </tr>\n",
       "  </thead>\n",
       "  <tbody>\n",
       "    <tr>\n",
       "      <th>0</th>\n",
       "      <td>Male</td>\n",
       "      <td>19</td>\n",
       "      <td>19000</td>\n",
       "      <td>0</td>\n",
       "    </tr>\n",
       "    <tr>\n",
       "      <th>1</th>\n",
       "      <td>Male</td>\n",
       "      <td>35</td>\n",
       "      <td>20000</td>\n",
       "      <td>0</td>\n",
       "    </tr>\n",
       "    <tr>\n",
       "      <th>2</th>\n",
       "      <td>Female</td>\n",
       "      <td>26</td>\n",
       "      <td>43000</td>\n",
       "      <td>0</td>\n",
       "    </tr>\n",
       "    <tr>\n",
       "      <th>3</th>\n",
       "      <td>Female</td>\n",
       "      <td>27</td>\n",
       "      <td>57000</td>\n",
       "      <td>0</td>\n",
       "    </tr>\n",
       "    <tr>\n",
       "      <th>4</th>\n",
       "      <td>Male</td>\n",
       "      <td>19</td>\n",
       "      <td>76000</td>\n",
       "      <td>0</td>\n",
       "    </tr>\n",
       "  </tbody>\n",
       "</table>\n",
       "</div>"
      ],
      "text/plain": [
       "   Gender  Age  Salary  Purchase Iphone\n",
       "0    Male   19   19000                0\n",
       "1    Male   35   20000                0\n",
       "2  Female   26   43000                0\n",
       "3  Female   27   57000                0\n",
       "4    Male   19   76000                0"
      ]
     },
     "execution_count": 2,
     "metadata": {},
     "output_type": "execute_result"
    }
   ],
   "source": [
    "data.head(5)"
   ]
  },
  {
   "cell_type": "code",
   "execution_count": 11,
   "id": "b38d466d",
   "metadata": {},
   "outputs": [
    {
     "name": "stdout",
     "output_type": "stream",
     "text": [
      "Original Data:\n",
      "     Gender  Age  Salary  Purchase Iphone\n",
      "0      Male   19   19000                0\n",
      "1      Male   35   20000                0\n",
      "2    Female   26   43000                0\n",
      "3    Female   27   57000                0\n",
      "4      Male   19   76000                0\n",
      "..      ...  ...     ...              ...\n",
      "395  Female   46   41000                1\n",
      "396    Male   51   23000                1\n",
      "397  Female   50   20000                1\n",
      "398    Male   36   33000                0\n",
      "399  Female   49   36000                1\n",
      "\n",
      "[400 rows x 4 columns]\n",
      "\n",
      "One-Hot Encoded Data using Pandas:\n",
      "     Age  Salary  Purchase Iphone  Gender_Male\n",
      "0     19   19000                0         True\n",
      "1     35   20000                0         True\n",
      "2     26   43000                0        False\n",
      "3     27   57000                0        False\n",
      "4     19   76000                0         True\n",
      "..   ...     ...              ...          ...\n",
      "395   46   41000                1        False\n",
      "396   51   23000                1         True\n",
      "397   50   20000                1        False\n",
      "398   36   33000                0         True\n",
      "399   49   36000                1        False\n",
      "\n",
      "[400 rows x 4 columns]\n",
      "\n"
     ]
    }
   ],
   "source": [
    "df = pd.DataFrame(data)\n",
    "print(f\"Original Data:\\n{df}\\n\")\n",
    "# Use pd.get_dummies() to one-hot encode the categorical columns\n",
    "df_pandas_encoded = pd.get_dummies(df, columns=['Gender'], drop_first=True)\n",
    "print(f\"One-Hot Encoded Data using Pandas:\\n{df_pandas_encoded}\\n\")"
   ]
  },
  {
   "cell_type": "code",
   "execution_count": 12,
   "id": "17dcd09e",
   "metadata": {},
   "outputs": [
    {
     "name": "stdout",
     "output_type": "stream",
     "text": [
      "     Age  Salary  Purchase Iphone  Gender_Male\n",
      "0     19   19000                0            1\n",
      "1     35   20000                0            1\n",
      "2     26   43000                0            0\n",
      "3     27   57000                0            0\n",
      "4     19   76000                0            1\n",
      "..   ...     ...              ...          ...\n",
      "395   46   41000                1            0\n",
      "396   51   23000                1            1\n",
      "397   50   20000                1            0\n",
      "398   36   33000                0            1\n",
      "399   49   36000                1            0\n",
      "\n",
      "[400 rows x 4 columns]\n"
     ]
    }
   ],
   "source": [
    "# Use the .replace() method to map True/False to 1/0\n",
    "df_pandas_encoded = df_pandas_encoded.replace({True: 1, False: 0})\n",
    "\n",
    "# Print the updated DataFrame 'df_pandas_encoded' where Boolean values \n",
    "# are now represented as integers (1/0)\n",
    "print(df_pandas_encoded)"
   ]
  },
  {
   "cell_type": "code",
   "execution_count": 20,
   "id": "cc0dfc0d",
   "metadata": {},
   "outputs": [],
   "source": [
    "X = df_pandas_encoded[['Gender_Male','Age','Salary']]\n",
    "y = df_pandas_encoded['Purchase Iphone']"
   ]
  },
  {
   "cell_type": "code",
   "execution_count": 21,
   "id": "a7421a36",
   "metadata": {},
   "outputs": [],
   "source": [
    "from sklearn.model_selection import train_test_split\n",
    "X_train, X_test, y_train, y_test = train_test_split(X, y, test_size=0.2)"
   ]
  },
  {
   "cell_type": "code",
   "execution_count": 22,
   "id": "e68102b0",
   "metadata": {},
   "outputs": [
    {
     "name": "stdout",
     "output_type": "stream",
     "text": [
      "(80, 3)\n",
      "(80,)\n"
     ]
    }
   ],
   "source": [
    "print(X_test.shape)\n",
    "print(y_test.shape)"
   ]
  },
  {
   "cell_type": "code",
   "execution_count": 23,
   "id": "36421189",
   "metadata": {},
   "outputs": [
    {
     "name": "stdout",
     "output_type": "stream",
     "text": [
      "Model training completed\n"
     ]
    }
   ],
   "source": [
    "### Model building\n",
    "from sklearn.neighbors import KNeighborsClassifier\n",
    "model = KNeighborsClassifier(n_neighbors=3)  ## k=3 chosen based on error method\n",
    "model_train=model.fit(X_train,y_train)\n",
    "print(\"Model training completed\")"
   ]
  },
  {
   "cell_type": "code",
   "execution_count": 24,
   "id": "5d698dfd",
   "metadata": {},
   "outputs": [
    {
     "data": {
      "text/plain": [
       "0.134550371872887"
      ]
     },
     "execution_count": 24,
     "metadata": {},
     "output_type": "execute_result"
    }
   ],
   "source": [
    "from sklearn.metrics import r2_score,mean_squared_error\n",
    "pred=model_train.predict(X_test)\n",
    "r2_score(y_test,pred)"
   ]
  },
  {
   "cell_type": "code",
   "execution_count": 33,
   "id": "46135c42",
   "metadata": {},
   "outputs": [
    {
     "name": "stdout",
     "output_type": "stream",
     "text": [
      "when k = 1\n",
      "Model training completed\n",
      "when k = 2\n",
      "Model training completed\n",
      "when k = 3\n",
      "Model training completed\n",
      "when k = 4\n",
      "Model training completed\n",
      "when k = 5\n",
      "Model training completed\n",
      "when k = 6\n",
      "Model training completed\n",
      "when k = 7\n",
      "Model training completed\n",
      "when k = 8\n",
      "Model training completed\n",
      "when k = 9\n",
      "Model training completed\n"
     ]
    }
   ],
   "source": [
    "## How to choose value of k ; it will be based on error \n",
    "error = []\n",
    "k= []\n",
    "for i in range(1,10):\n",
    "    print(\"when k =\", i)\n",
    "    model=KNeighborsClassifier(n_neighbors=i)\n",
    "    model_train=model.fit(X_train,y_train)\n",
    "    print(\"Model training completed\")\n",
    "    err=(1-(model_train.score(X_train,y_train)))\n",
    "    error.append(err)\n",
    "    k.append(i)"
   ]
  },
  {
   "cell_type": "code",
   "execution_count": 35,
   "id": "b067f84c",
   "metadata": {},
   "outputs": [
    {
     "data": {
      "text/plain": [
       "[0.0,\n",
       " 0.09687500000000004,\n",
       " 0.09687500000000004,\n",
       " 0.13437500000000002,\n",
       " 0.125,\n",
       " 0.14687499999999998,\n",
       " 0.16249999999999998,\n",
       " 0.16562500000000002,\n",
       " 0.15937500000000004]"
      ]
     },
     "execution_count": 35,
     "metadata": {},
     "output_type": "execute_result"
    }
   ],
   "source": [
    "error"
   ]
  },
  {
   "cell_type": "code",
   "execution_count": 36,
   "id": "873787eb",
   "metadata": {},
   "outputs": [],
   "source": [
    "import seaborn as sns\n",
    "import matplotlib.pyplot as plt"
   ]
  },
  {
   "cell_type": "code",
   "execution_count": 37,
   "id": "1a936fc7",
   "metadata": {},
   "outputs": [
    {
     "data": {
      "text/plain": [
       "[<matplotlib.lines.Line2D at 0x1f72371e110>]"
      ]
     },
     "execution_count": 37,
     "metadata": {},
     "output_type": "execute_result"
    },
    {
     "data": {
      "image/png": "[encoded data removed]",
      "text/plain": [
       "<Figure size 640x480 with 1 Axes>"
      ]
     },
     "metadata": {},
     "output_type": "display_data"
    }
   ],
   "source": [
    "plt.plot(k,error)"
   ]
  },
  {
   "cell_type": "code",
   "execution_count": null,
   "id": "305f78a4",
   "metadata": {},
   "outputs": [],
   "source": []
  }
 ],
 "metadata": {
  "kernelspec": {
   "display_name": "Python 3 (ipykernel)",
   "language": "python",
   "name": "python3"
  },
  "language_info": {
   "codemirror_mode": {
    "name": "ipython",
    "version": 3
   },
   "file_extension": ".py",
   "mimetype": "text/x-python",
   "name": "python",
   "nbconvert_exporter": "python",
   "pygments_lexer": "ipython3",
   "version": "3.11.5"
  }
 },
 "nbformat": 4,
 "nbformat_minor": 5
}
